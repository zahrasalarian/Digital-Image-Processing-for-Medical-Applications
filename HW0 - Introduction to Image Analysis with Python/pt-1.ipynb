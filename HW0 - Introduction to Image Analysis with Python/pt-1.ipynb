{
 "cells": [
  {
   "cell_type": "code",
   "execution_count": 1,
   "metadata": {},
   "outputs": [],
   "source": [
    "import numpy as np"
   ]
  },
  {
   "attachments": {},
   "cell_type": "markdown",
   "metadata": {},
   "source": [
    "### Generate an array of 80 random numbers between 10 and 54,000"
   ]
  },
  {
   "cell_type": "code",
   "execution_count": 2,
   "metadata": {},
   "outputs": [],
   "source": [
    "rand_nums = np.random.uniform(10, 54000, 80)"
   ]
  },
  {
   "cell_type": "code",
   "execution_count": 3,
   "metadata": {},
   "outputs": [
    {
     "data": {
      "text/plain": [
       "array([  630.51005006,  3646.30876843, 12979.41690935, 28873.11970045,\n",
       "       47454.34415596, 30254.9416315 ,  7409.18375697, 34389.5704806 ,\n",
       "       20362.23840516,  4764.75689231,  8206.65670055, 23853.08707532,\n",
       "       21926.27069459, 43070.21139602, 48527.33250611,  8060.14178857,\n",
       "       14977.85957418, 10677.56107675,  7232.33511965,  6256.96123948,\n",
       "       52295.65017427, 34514.57515895, 30070.54437482, 16113.04261733,\n",
       "       30025.15740842, 46870.71211332, 21428.675554  , 45291.34851143,\n",
       "       53893.24529434, 30813.45006939,  3430.22179943, 31010.65277053,\n",
       "        5626.01695924, 15109.37840609, 38789.53039708, 24740.35645084,\n",
       "       38704.06376058, 12728.85290987, 38292.86741632, 52009.09825029,\n",
       "       41999.61796869, 28328.35742422,  7838.0619894 , 36581.65963251,\n",
       "       18180.11158381, 24746.07334599, 25721.76220276, 39049.05091389,\n",
       "       11951.35147006, 38345.70225936, 27698.40330488,  7565.78437694,\n",
       "       29575.44206452, 25785.30505828, 28658.89463413, 31115.90334771,\n",
       "       28827.45767799, 32335.91534066,  9891.91264648, 35099.78892001,\n",
       "        2279.81657907, 14097.12341475,  6209.0160616 , 16988.5250478 ,\n",
       "       49780.49118822, 28670.38638936, 22824.34578608, 48188.47054313,\n",
       "       40893.14537021, 53688.34780053, 26783.8463014 , 25027.18870528,\n",
       "       38509.56589946, 52428.11939347, 15048.17605075, 23936.26245666,\n",
       "       37232.90241049, 43539.60035522, 18762.84281414, 18153.07590656])"
      ]
     },
     "execution_count": 3,
     "metadata": {},
     "output_type": "execute_result"
    }
   ],
   "source": [
    "rand_nums"
   ]
  },
  {
   "attachments": {},
   "cell_type": "markdown",
   "metadata": {},
   "source": [
    "### Check the data type of the generated array"
   ]
  },
  {
   "cell_type": "code",
   "execution_count": 4,
   "metadata": {},
   "outputs": [
    {
     "data": {
      "text/plain": [
       "numpy.ndarray"
      ]
     },
     "execution_count": 4,
     "metadata": {},
     "output_type": "execute_result"
    }
   ],
   "source": [
    "type(rand_nums)"
   ]
  },
  {
   "cell_type": "code",
   "execution_count": 5,
   "metadata": {},
   "outputs": [
    {
     "data": {
      "text/plain": [
       "dtype('float64')"
      ]
     },
     "execution_count": 5,
     "metadata": {},
     "output_type": "execute_result"
    }
   ],
   "source": [
    "rand_nums.dtype"
   ]
  },
  {
   "attachments": {},
   "cell_type": "markdown",
   "metadata": {},
   "source": [
    "### Round each element in the array to the nearest integer"
   ]
  },
  {
   "cell_type": "code",
   "execution_count": 6,
   "metadata": {},
   "outputs": [],
   "source": [
    "nearest_int = np.rint(rand_nums)"
   ]
  },
  {
   "cell_type": "code",
   "execution_count": 7,
   "metadata": {},
   "outputs": [
    {
     "data": {
      "text/plain": [
       "array([  631.,  3646., 12979., 28873., 47454., 30255.,  7409., 34390.,\n",
       "       20362.,  4765.,  8207., 23853., 21926., 43070., 48527.,  8060.,\n",
       "       14978., 10678.,  7232.,  6257., 52296., 34515., 30071., 16113.,\n",
       "       30025., 46871., 21429., 45291., 53893., 30813.,  3430., 31011.,\n",
       "        5626., 15109., 38790., 24740., 38704., 12729., 38293., 52009.,\n",
       "       42000., 28328.,  7838., 36582., 18180., 24746., 25722., 39049.,\n",
       "       11951., 38346., 27698.,  7566., 29575., 25785., 28659., 31116.,\n",
       "       28827., 32336.,  9892., 35100.,  2280., 14097.,  6209., 16989.,\n",
       "       49780., 28670., 22824., 48188., 40893., 53688., 26784., 25027.,\n",
       "       38510., 52428., 15048., 23936., 37233., 43540., 18763., 18153.])"
      ]
     },
     "execution_count": 7,
     "metadata": {},
     "output_type": "execute_result"
    }
   ],
   "source": [
    "nearest_int"
   ]
  },
  {
   "attachments": {},
   "cell_type": "markdown",
   "metadata": {},
   "source": [
    "### Limitations of Several Numerical Data Types and Their Memory Occupancy\n",
    "\n",
    "\n",
    "<ol>\n",
    "  <li><strong>int</strong>: Default integer type (int64), varies by platform (usually 32 or 64 bits).\n",
    "  <ul style=\"margin-top:0.5em;\">\n",
    "    <li><strong>Limitation</strong>: Platform-dependent, could be overkill for small ranges.</li>\n",
    "    <li><strong>Memory</strong>: 4 or 8 bytes</li>\n",
    "  </ul></li>\n",
    "\n",
    "   <br>\n",
    "\n",
    "   <li><strong>int8</strong>: 8-bit signed integer.\n",
    "  <ul style=\"margin-top:0.5em;\">\n",
    "    <li><strong>Limitation</strong>: Limited range (-2<sup>7</sup> to 2<sup>7</sup> - 1), potential for overflow.\n",
    "    <li><strong>Memory</strong>: 1 byte</li>\n",
    "  </ul></li>\n",
    "\n",
    "   <br>\n",
    "\n",
    "  <li><strong>uint8</strong>: 8-bit unsigned integer.\n",
    "  <ul style=\"margin-top:0.5em;\">\n",
    "    <li><strong>Limitation</strong>: Limited range (0 to 2<sup>8</sup>), potential for overflow.\n",
    "    <li><strong>Memory</strong>: 1 byte</li>\n",
    "  </ul></li>\n",
    "\n",
    "   <br>\n",
    "\n",
    "  <li><strong>int16</strong>: 16-bit signed integer.\n",
    "  <ul style=\"margin-top:0.5em;\">\n",
    "    <li><strong>Limitation</strong>: Limited range (-2<sup>15</sup> to 2<sup>15</sup> - 1), potential for overflow.\n",
    "    <li><strong>Memory</strong>: 2 byte</li>\n",
    "  </ul></li>\n",
    "\n",
    "   <br>\n",
    "\n",
    "  <li><strong>uint16</strong>: 16-bit unsigned integer.\n",
    "  <ul style=\"margin-top:0.5em;\">\n",
    "    <li><strong>Limitation</strong>: Limited range (0 to 2<sup>16</sup> - 1), potential for overflow.\n",
    "    <li><strong>Memory</strong>: 2 byte</li>\n",
    "  </ul></li>\n",
    "\n",
    "   <br>\n",
    "\n",
    "  <li><strong>int32</strong>: 32-bit signed integer.\n",
    "  <ul style=\"margin-top:0.5em;\">\n",
    "    <li><strong>Limitation</strong>: Could be overkill for small ranges.\n",
    "    <li><strong>Memory</strong>: 4 byte</li>\n",
    "  </ul></li>\n",
    "\n",
    "   <br>\n",
    "\n",
    "  <li><strong>int64</strong>: 64-bit signed integer.\n",
    "  <ul style=\"margin-top:0.5em;\">\n",
    "    <li><strong>Limitation</strong>: Even more overkill for small ranges, higher memory consumption.\n",
    "    <li><strong>Memory</strong>: 8 byte</li>\n",
    "  </ul></li>\n",
    "\n",
    "   <br>\n",
    "\n",
    "  <li><strong>float</strong>: Platform-dependent floating-point (usually equivalent to float64).\n",
    "  <ul style=\"margin-top:0.5em;\">\n",
    "    <li><strong>Limitation</strong>: Possible overkill for integer data, more memory consumption.\n",
    "    <li><strong>Memory</strong>: 8 bytes (usually)</li>\n",
    "  </ul></li>\n",
    "\n",
    "   <br>\n",
    "\n",
    "  <li><strong>float32</strong>: 32-bit floating-point.\n",
    "  <ul style=\"margin-top:0.5em;\">\n",
    "    <li><strong>Limitation</strong>: Limited precision, not suitable for integer storage.\n",
    "    <li><strong>Memory</strong>: 4 byte</li>\n",
    "  </ul></li>\n",
    "\n",
    "   <br>\n",
    "\n",
    "  <li><strong>float64</strong>: 64-bit floating-point.\n",
    "  <ul style=\"margin-top:0.5em;\">\n",
    "    <li><strong>Limitation</strong>: Even more limited precision, highest memory consumption among these types.\n",
    "    <li><strong>Memory</strong>: 8 bytes</li>\n",
    "  </ul></li>\n",
    "\n",
    "</ol>\n",
    "\n",
    "### The best choice would be `uint16`.\n",
    "\n",
    "- The unsigned 16-bit integer type allows for numbers between 0 and 65,535, which comfortably fits the range of 10 to 54,000 while consuming only 16 bits (or 2 bytes) of memory per element. It's the most memory-efficient choice without losing any data.\n"
   ]
  },
  {
   "cell_type": "code",
   "execution_count": 8,
   "metadata": {},
   "outputs": [],
   "source": [
    "converted_nums = nearest_int.astype(np.uint16)"
   ]
  },
  {
   "cell_type": "code",
   "execution_count": 9,
   "metadata": {},
   "outputs": [
    {
     "data": {
      "text/plain": [
       "array([  631,  3646, 12979, 28873, 47454, 30255,  7409, 34390, 20362,\n",
       "        4765,  8207, 23853, 21926, 43070, 48527,  8060, 14978, 10678,\n",
       "        7232,  6257, 52296, 34515, 30071, 16113, 30025, 46871, 21429,\n",
       "       45291, 53893, 30813,  3430, 31011,  5626, 15109, 38790, 24740,\n",
       "       38704, 12729, 38293, 52009, 42000, 28328,  7838, 36582, 18180,\n",
       "       24746, 25722, 39049, 11951, 38346, 27698,  7566, 29575, 25785,\n",
       "       28659, 31116, 28827, 32336,  9892, 35100,  2280, 14097,  6209,\n",
       "       16989, 49780, 28670, 22824, 48188, 40893, 53688, 26784, 25027,\n",
       "       38510, 52428, 15048, 23936, 37233, 43540, 18763, 18153],\n",
       "      dtype=uint16)"
      ]
     },
     "execution_count": 9,
     "metadata": {},
     "output_type": "execute_result"
    }
   ],
   "source": [
    "converted_nums"
   ]
  },
  {
   "cell_type": "code",
   "execution_count": 10,
   "metadata": {},
   "outputs": [
    {
     "data": {
      "text/plain": [
       "dtype('uint16')"
      ]
     },
     "execution_count": 10,
     "metadata": {},
     "output_type": "execute_result"
    }
   ],
   "source": [
    "converted_nums.dtype"
   ]
  },
  {
   "attachments": {},
   "cell_type": "markdown",
   "metadata": {},
   "source": [
    "### Reshape the 80-element array into an 8x10 matrix"
   ]
  },
  {
   "cell_type": "code",
   "execution_count": 11,
   "metadata": {},
   "outputs": [],
   "source": [
    "reshaped_conv_nums = converted_nums.reshape(8, 10)"
   ]
  },
  {
   "cell_type": "code",
   "execution_count": 25,
   "metadata": {},
   "outputs": [
    {
     "data": {
      "text/plain": [
       "array([[  631,  3646, 12979, 28873, 47454, 30255,  7409, 34390, 20362,\n",
       "         4765],\n",
       "       [ 8207, 23853, 21926, 43070, 48527,  8060, 14978, 10678,  7232,\n",
       "         6257],\n",
       "       [52296, 34515, 30071, 16113, 30025, 46871, 21429, 45291, 53893,\n",
       "        30813],\n",
       "       [ 3430, 31011,  5626, 15109, 38790, 24740, 38704, 12729, 38293,\n",
       "        52009],\n",
       "       [42000, 28328,  7838, 36582, 18180, 24746, 25722, 39049, 11951,\n",
       "        38346],\n",
       "       [27698,  7566, 29575, 25785, 28659, 31116, 28827, 32336,  9892,\n",
       "        35100],\n",
       "       [ 2280, 14097,  6209, 16989, 49780, 28670, 22824, 48188, 40893,\n",
       "        53688],\n",
       "       [26784, 25027, 38510, 52428, 15048, 23936, 37233, 43540, 18763,\n",
       "        18153]], dtype=uint16)"
      ]
     },
     "execution_count": 25,
     "metadata": {},
     "output_type": "execute_result"
    }
   ],
   "source": [
    "reshaped_conv_nums"
   ]
  },
  {
   "attachments": {},
   "cell_type": "markdown",
   "metadata": {},
   "source": [
    "### Find the minimum and maximum values in the reshaped array"
   ]
  },
  {
   "cell_type": "code",
   "execution_count": 27,
   "metadata": {},
   "outputs": [
    {
     "data": {
      "text/plain": [
       "631"
      ]
     },
     "execution_count": 27,
     "metadata": {},
     "output_type": "execute_result"
    }
   ],
   "source": [
    "np.min(reshaped_conv_nums)"
   ]
  },
  {
   "cell_type": "code",
   "execution_count": 28,
   "metadata": {},
   "outputs": [
    {
     "data": {
      "text/plain": [
       "53893"
      ]
     },
     "execution_count": 28,
     "metadata": {},
     "output_type": "execute_result"
    }
   ],
   "source": [
    "np.max(reshaped_conv_nums)"
   ]
  },
  {
   "attachments": {},
   "cell_type": "markdown",
   "metadata": {},
   "source": [
    "### Convert the reshaped array to 8-bit integers\n",
    "\n",
    "- The conversion to 8-bit integers caused data truncation due to the limited range of `int8` (-128 to 127)."
   ]
  },
  {
   "cell_type": "code",
   "execution_count": 37,
   "metadata": {},
   "outputs": [],
   "source": [
    "converted_int8 = reshaped_conv_nums.astype(np.int8)"
   ]
  },
  {
   "cell_type": "code",
   "execution_count": 39,
   "metadata": {},
   "outputs": [
    {
     "data": {
      "text/plain": [
       "array([[ 119,   62,  -77,  -55,   94,   47,  -15,   86, -118,  -99],\n",
       "       [  15,   45,  -90,   62, -113,  124, -126,  -74,   64,  113],\n",
       "       [  72,  -45,  119,  -15,   73,   23,  -75,  -21, -123,   93],\n",
       "       [ 102,   35,   -6,    5, -122,  -92,   48,  -71, -107,   41],\n",
       "       [  16,  -88,  -98,  -26,    4,  -86,  122, -119,  -81,  -54],\n",
       "       [  50, -114, -121,  -71,  -13, -116, -101,   80,  -92,   28],\n",
       "       [ -24,   17,   65,   93,  116,   -2,   40,   60,  -67,  -72],\n",
       "       [ -96,  -61,  110,  -52,  -56, -128,  113,   20,   75,  -23]],\n",
       "      dtype=int8)"
      ]
     },
     "execution_count": 39,
     "metadata": {},
     "output_type": "execute_result"
    }
   ],
   "source": [
    "converted_int8"
   ]
  },
  {
   "attachments": {},
   "cell_type": "markdown",
   "metadata": {},
   "source": [
    "### Extract the second column from the 8x10 matrix into a tuple"
   ]
  },
  {
   "cell_type": "code",
   "execution_count": 48,
   "metadata": {},
   "outputs": [],
   "source": [
    "C_two = tuple(converted_int8[:, 1])"
   ]
  },
  {
   "cell_type": "code",
   "execution_count": 49,
   "metadata": {},
   "outputs": [
    {
     "data": {
      "text/plain": [
       "(-89, 5, 56, 118, -39, -61, 31, -80)"
      ]
     },
     "execution_count": 49,
     "metadata": {},
     "output_type": "execute_result"
    }
   ],
   "source": [
    "C_two"
   ]
  },
  {
   "cell_type": "markdown",
   "metadata": {},
   "source": [
    "### Extract the third column from the 8x10 matrix into a tuple"
   ]
  },
  {
   "cell_type": "code",
   "execution_count": 50,
   "metadata": {},
   "outputs": [],
   "source": [
    "R_three = list(converted_int8[2, 2:])"
   ]
  },
  {
   "cell_type": "code",
   "execution_count": 51,
   "metadata": {},
   "outputs": [
    {
     "data": {
      "text/plain": [
       "[-105, 86, -55, -98, 39, -88, 8, -64]"
      ]
     },
     "execution_count": 51,
     "metadata": {},
     "output_type": "execute_result"
    }
   ],
   "source": [
    "R_three"
   ]
  },
  {
   "attachments": {},
   "cell_type": "markdown",
   "metadata": {},
   "source": [
    "### Create a dictionary with C_two as keys and R_three as values"
   ]
  },
  {
   "cell_type": "code",
   "execution_count": 59,
   "metadata": {},
   "outputs": [],
   "source": [
    "_dict = dict(zip(C_two, R_three))"
   ]
  },
  {
   "cell_type": "code",
   "execution_count": 60,
   "metadata": {},
   "outputs": [
    {
     "data": {
      "text/plain": [
       "{-89: -105, 5: 86, 56: -55, 118: -98, -39: 39, -61: -88, 31: 8, -80: -64}"
      ]
     },
     "execution_count": 60,
     "metadata": {},
     "output_type": "execute_result"
    }
   ],
   "source": [
    "_dict"
   ]
  }
 ],
 "metadata": {
  "kernelspec": {
   "display_name": "mlp",
   "language": "python",
   "name": "python3"
  },
  "language_info": {
   "codemirror_mode": {
    "name": "ipython",
    "version": 3
   },
   "file_extension": ".py",
   "mimetype": "text/x-python",
   "name": "python",
   "nbconvert_exporter": "python",
   "pygments_lexer": "ipython3",
   "version": "3.8.12"
  },
  "orig_nbformat": 4,
  "vscode": {
   "interpreter": {
    "hash": "4976e0179d97dd6d59b1329a76e601e17b789c2571b41c8b57f5fd69821c0dd3"
   }
  }
 },
 "nbformat": 4,
 "nbformat_minor": 2
}
