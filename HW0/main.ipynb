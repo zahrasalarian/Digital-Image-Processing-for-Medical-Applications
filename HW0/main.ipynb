{
 "cells": [
  {
   "cell_type": "code",
   "execution_count": 32,
   "metadata": {},
   "outputs": [],
   "source": [
    "import numpy as np"
   ]
  },
  {
   "cell_type": "code",
   "execution_count": 33,
   "metadata": {},
   "outputs": [],
   "source": [
    "rand_nums = np.random.uniform(10, 54000, 80)"
   ]
  },
  {
   "cell_type": "code",
   "execution_count": 34,
   "metadata": {},
   "outputs": [
    {
     "data": {
      "text/plain": [
       "array([19050.08014695, 10919.08579258, 39954.79128494, 13428.64913894,\n",
       "       51469.38921282, 18028.51574846,  6039.32950606, 28534.53404827,\n",
       "       36122.2378992 , 39950.89618535, 21657.86333766, 44037.0062312 ,\n",
       "        5542.58360282, 11957.76366841, 52140.24173338, 33101.23573859,\n",
       "       53590.62619952, 12372.93830904, 22849.08535541, 41203.04939188,\n",
       "       29448.03698779, 11576.29276558, 47510.9103878 ,  6486.25702283,\n",
       "       37833.45338664,  6046.3955796 ,  7975.12447336, 53415.57425529,\n",
       "       48647.9679734 ,  1727.7034265 , 24977.72888514, 24182.16264332,\n",
       "       45768.27987478, 20294.57600502, 38926.6264288 , 44371.48806914,\n",
       "       13737.40642852, 32875.78913093, 30930.88312441, 44748.83308761,\n",
       "       15764.91055141, 38104.64930025, 16075.23628166, 35695.87455604,\n",
       "       12326.68315551, 20151.11631445, 10208.55064217, 21294.06748519,\n",
       "       37170.95487358, 26445.15102351, 19748.76397356, 24770.75006239,\n",
       "       40670.22050745,  6385.7719811 , 28447.82871404, 53067.05020549,\n",
       "       26262.32373629,  7267.87913276, 46180.61503385, 18290.09592651,\n",
       "       38353.8197976 ,  9758.61107834, 11033.32706   ,  2134.68300951,\n",
       "       38080.69466124, 42665.2546036 , 34256.98137721, 34350.73433644,\n",
       "       43826.31659692, 49852.19468578, 23575.65872548,  1712.19143162,\n",
       "        4641.1524819 , 17154.57683665, 53982.80372435, 47597.66941438,\n",
       "       19936.24884516, 45023.33888302, 48535.0568582 , 23955.64971969])"
      ]
     },
     "execution_count": 34,
     "metadata": {},
     "output_type": "execute_result"
    }
   ],
   "source": [
    "rand_nums"
   ]
  },
  {
   "cell_type": "code",
   "execution_count": 35,
   "metadata": {},
   "outputs": [
    {
     "data": {
      "text/plain": [
       "numpy.ndarray"
      ]
     },
     "execution_count": 35,
     "metadata": {},
     "output_type": "execute_result"
    }
   ],
   "source": [
    "type(rand_nums)"
   ]
  },
  {
   "cell_type": "code",
   "execution_count": 36,
   "metadata": {},
   "outputs": [
    {
     "data": {
      "text/plain": [
       "dtype('float64')"
      ]
     },
     "execution_count": 36,
     "metadata": {},
     "output_type": "execute_result"
    }
   ],
   "source": [
    "rand_nums.dtype"
   ]
  },
  {
   "cell_type": "code",
   "execution_count": 37,
   "metadata": {},
   "outputs": [],
   "source": [
    "nearest_int = np.rint(rand_nums)"
   ]
  },
  {
   "cell_type": "code",
   "execution_count": 38,
   "metadata": {},
   "outputs": [
    {
     "data": {
      "text/plain": [
       "array([19050., 10919., 39955., 13429., 51469., 18029.,  6039., 28535.,\n",
       "       36122., 39951., 21658., 44037.,  5543., 11958., 52140., 33101.,\n",
       "       53591., 12373., 22849., 41203., 29448., 11576., 47511.,  6486.,\n",
       "       37833.,  6046.,  7975., 53416., 48648.,  1728., 24978., 24182.,\n",
       "       45768., 20295., 38927., 44371., 13737., 32876., 30931., 44749.,\n",
       "       15765., 38105., 16075., 35696., 12327., 20151., 10209., 21294.,\n",
       "       37171., 26445., 19749., 24771., 40670.,  6386., 28448., 53067.,\n",
       "       26262.,  7268., 46181., 18290., 38354.,  9759., 11033.,  2135.,\n",
       "       38081., 42665., 34257., 34351., 43826., 49852., 23576.,  1712.,\n",
       "        4641., 17155., 53983., 47598., 19936., 45023., 48535., 23956.])"
      ]
     },
     "execution_count": 38,
     "metadata": {},
     "output_type": "execute_result"
    }
   ],
   "source": [
    "nearest_int"
   ]
  },
  {
   "attachments": {},
   "cell_type": "markdown",
   "metadata": {},
   "source": [
    "### Choosing best data type\n",
    "#### it is int64 which is the same as int"
   ]
  },
  {
   "cell_type": "code",
   "execution_count": 39,
   "metadata": {},
   "outputs": [],
   "source": [
    "converted_nums = nearest_int.astype(np.int64)"
   ]
  },
  {
   "cell_type": "code",
   "execution_count": 40,
   "metadata": {},
   "outputs": [
    {
     "data": {
      "text/plain": [
       "array([19050, 10919, 39955, 13429, 51469, 18029,  6039, 28535, 36122,\n",
       "       39951, 21658, 44037,  5543, 11958, 52140, 33101, 53591, 12373,\n",
       "       22849, 41203, 29448, 11576, 47511,  6486, 37833,  6046,  7975,\n",
       "       53416, 48648,  1728, 24978, 24182, 45768, 20295, 38927, 44371,\n",
       "       13737, 32876, 30931, 44749, 15765, 38105, 16075, 35696, 12327,\n",
       "       20151, 10209, 21294, 37171, 26445, 19749, 24771, 40670,  6386,\n",
       "       28448, 53067, 26262,  7268, 46181, 18290, 38354,  9759, 11033,\n",
       "        2135, 38081, 42665, 34257, 34351, 43826, 49852, 23576,  1712,\n",
       "        4641, 17155, 53983, 47598, 19936, 45023, 48535, 23956])"
      ]
     },
     "execution_count": 40,
     "metadata": {},
     "output_type": "execute_result"
    }
   ],
   "source": [
    "converted_nums"
   ]
  },
  {
   "cell_type": "code",
   "execution_count": 41,
   "metadata": {},
   "outputs": [
    {
     "data": {
      "text/plain": [
       "dtype('int64')"
      ]
     },
     "execution_count": 41,
     "metadata": {},
     "output_type": "execute_result"
    }
   ],
   "source": [
    "converted_nums.dtype"
   ]
  },
  {
   "cell_type": "code",
   "execution_count": 42,
   "metadata": {},
   "outputs": [],
   "source": [
    "reshaped_conv_nums = converted_nums.reshape(8, 10)"
   ]
  },
  {
   "cell_type": "code",
   "execution_count": 43,
   "metadata": {},
   "outputs": [
    {
     "data": {
      "text/plain": [
       "array([[19050, 10919, 39955, 13429, 51469, 18029,  6039, 28535, 36122,\n",
       "        39951],\n",
       "       [21658, 44037,  5543, 11958, 52140, 33101, 53591, 12373, 22849,\n",
       "        41203],\n",
       "       [29448, 11576, 47511,  6486, 37833,  6046,  7975, 53416, 48648,\n",
       "         1728],\n",
       "       [24978, 24182, 45768, 20295, 38927, 44371, 13737, 32876, 30931,\n",
       "        44749],\n",
       "       [15765, 38105, 16075, 35696, 12327, 20151, 10209, 21294, 37171,\n",
       "        26445],\n",
       "       [19749, 24771, 40670,  6386, 28448, 53067, 26262,  7268, 46181,\n",
       "        18290],\n",
       "       [38354,  9759, 11033,  2135, 38081, 42665, 34257, 34351, 43826,\n",
       "        49852],\n",
       "       [23576,  1712,  4641, 17155, 53983, 47598, 19936, 45023, 48535,\n",
       "        23956]])"
      ]
     },
     "execution_count": 43,
     "metadata": {},
     "output_type": "execute_result"
    }
   ],
   "source": [
    "reshaped_conv_nums"
   ]
  },
  {
   "cell_type": "code",
   "execution_count": 44,
   "metadata": {},
   "outputs": [
    {
     "data": {
      "text/plain": [
       "1712"
      ]
     },
     "execution_count": 44,
     "metadata": {},
     "output_type": "execute_result"
    }
   ],
   "source": [
    "np.min(reshaped_conv_nums)"
   ]
  },
  {
   "cell_type": "code",
   "execution_count": 45,
   "metadata": {},
   "outputs": [
    {
     "data": {
      "text/plain": [
       "53983"
      ]
     },
     "execution_count": 45,
     "metadata": {},
     "output_type": "execute_result"
    }
   ],
   "source": [
    "np.max(reshaped_conv_nums)"
   ]
  },
  {
   "cell_type": "code",
   "execution_count": 46,
   "metadata": {},
   "outputs": [],
   "source": [
    "converted_int8 = reshaped_conv_nums.astype(np.int8)"
   ]
  },
  {
   "cell_type": "code",
   "execution_count": 47,
   "metadata": {},
   "outputs": [
    {
     "data": {
      "text/plain": [
       "array([[ 106,  -89,   19,  117,   13,  109, -105,  119,   26,   15],\n",
       "       [-102,    5,  -89,  -74,  -84,   77,   87,   85,   65,  -13],\n",
       "       [   8,   56, -105,   86,  -55,  -98,   39,  -88,    8,  -64],\n",
       "       [-110,  118,  -56,   71,   15,   83,  -87,  108,  -45,  -51],\n",
       "       [-107,  -39,  -53,  112,   39,  -73,  -31,   46,   51,   77],\n",
       "       [  37,  -61,  -34,  -14,   32,   75, -106,  100,  101,  114],\n",
       "       [ -46,   31,   25,   87,  -63,  -87,  -47,   47,   50,  -68],\n",
       "       [  24,  -80,   33,    3,  -33,  -18,  -32,  -33, -105, -108]],\n",
       "      dtype=int8)"
      ]
     },
     "execution_count": 47,
     "metadata": {},
     "output_type": "execute_result"
    }
   ],
   "source": [
    "converted_int8"
   ]
  },
  {
   "cell_type": "code",
   "execution_count": 48,
   "metadata": {},
   "outputs": [],
   "source": [
    "C_two = tuple(converted_int8[:, 1])"
   ]
  },
  {
   "cell_type": "code",
   "execution_count": 49,
   "metadata": {},
   "outputs": [
    {
     "data": {
      "text/plain": [
       "(-89, 5, 56, 118, -39, -61, 31, -80)"
      ]
     },
     "execution_count": 49,
     "metadata": {},
     "output_type": "execute_result"
    }
   ],
   "source": [
    "C_two"
   ]
  },
  {
   "cell_type": "code",
   "execution_count": 50,
   "metadata": {},
   "outputs": [],
   "source": [
    "R_three = list(converted_int8[2, 2:])"
   ]
  },
  {
   "cell_type": "code",
   "execution_count": 51,
   "metadata": {},
   "outputs": [
    {
     "data": {
      "text/plain": [
       "[-105, 86, -55, -98, 39, -88, 8, -64]"
      ]
     },
     "execution_count": 51,
     "metadata": {},
     "output_type": "execute_result"
    }
   ],
   "source": [
    "R_three"
   ]
  },
  {
   "cell_type": "code",
   "execution_count": 59,
   "metadata": {},
   "outputs": [],
   "source": [
    "_dict = dict(zip(C_two, R_three))"
   ]
  },
  {
   "cell_type": "code",
   "execution_count": 60,
   "metadata": {},
   "outputs": [
    {
     "data": {
      "text/plain": [
       "{-89: -105, 5: 86, 56: -55, 118: -98, -39: 39, -61: -88, 31: 8, -80: -64}"
      ]
     },
     "execution_count": 60,
     "metadata": {},
     "output_type": "execute_result"
    }
   ],
   "source": [
    "_dict"
   ]
  }
 ],
 "metadata": {
  "kernelspec": {
   "display_name": "mlp",
   "language": "python",
   "name": "python3"
  },
  "language_info": {
   "codemirror_mode": {
    "name": "ipython",
    "version": 3
   },
   "file_extension": ".py",
   "mimetype": "text/x-python",
   "name": "python",
   "nbconvert_exporter": "python",
   "pygments_lexer": "ipython3",
   "version": "3.8.12 | packaged by conda-forge | (default, Oct 12 2021, 21:21:17) \n[Clang 11.1.0 ]"
  },
  "orig_nbformat": 4,
  "vscode": {
   "interpreter": {
    "hash": "4976e0179d97dd6d59b1329a76e601e17b789c2571b41c8b57f5fd69821c0dd3"
   }
  }
 },
 "nbformat": 4,
 "nbformat_minor": 2
}
