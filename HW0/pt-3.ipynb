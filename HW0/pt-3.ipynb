{
 "cells": [
  {
   "cell_type": "code",
   "execution_count": 73,
   "metadata": {},
   "outputs": [],
   "source": [
    "import numpy as np\n",
    "import matplotlib.pyplot as plt"
   ]
  },
  {
   "cell_type": "code",
   "execution_count": 76,
   "metadata": {},
   "outputs": [],
   "source": [
    "std_num = 9731089\n",
    "r = 4"
   ]
  },
  {
   "cell_type": "code",
   "execution_count": 6,
   "metadata": {},
   "outputs": [],
   "source": [
    "def generate_circle_matrix(r):\n",
    "    if r < 3:\n",
    "        print('r should be larger than 2')\n",
    "        return\n",
    "    matrix = np.fromfunction(lambda i, j: 255*((i-r)**2 + (j-r)**2 <= r**2), shape=(2*r+1,2*r+1), dtype=np.int8)\n",
    "    return matrix"
   ]
  },
  {
   "cell_type": "code",
   "execution_count": 11,
   "metadata": {},
   "outputs": [],
   "source": [
    "circle_matrix = generate_circle_matrix(4)"
   ]
  },
  {
   "cell_type": "code",
   "execution_count": 47,
   "metadata": {},
   "outputs": [
    {
     "data": {
      "text/plain": [
       "array([[  0,   0,   0,   0, 255,   0,   0,   0,   0],\n",
       "       [  0,   0, 255, 255, 255, 255, 255,   0,   0],\n",
       "       [  0, 255, 255, 255, 255, 255, 255, 255,   0],\n",
       "       [  0, 255, 255, 255, 255, 255, 255, 255,   0],\n",
       "       [255, 255, 255, 255, 255, 255, 255, 255, 255],\n",
       "       [  0, 255, 255, 255, 255, 255, 255, 255,   0],\n",
       "       [  0, 255, 255, 255, 255, 255, 255, 255,   0],\n",
       "       [  0,   0, 255, 255, 255, 255, 255,   0,   0],\n",
       "       [  0,   0,   0,   0, 255,   0,   0,   0,   0]])"
      ]
     },
     "execution_count": 47,
     "metadata": {},
     "output_type": "execute_result"
    }
   ],
   "source": [
    "circle_matrix"
   ]
  },
  {
   "cell_type": "code",
   "execution_count": 70,
   "metadata": {},
   "outputs": [],
   "source": [
    "def add_noise(_matrix, high_noise):\n",
    "    noises = np.random.uniform(0, high_noise, size=_matrix.shape)\n",
    "    adjusted_noises = np.where(_matrix != 0, noises*(-1), noises)\n",
    "    noisy_matrix = np.add(_matrix, adjusted_noises)\n",
    "    res = np.floor(noisy_matrix).astype(_matrix.dtype)\n",
    "    return res"
   ]
  },
  {
   "cell_type": "code",
   "execution_count": 62,
   "metadata": {},
   "outputs": [],
   "source": [
    "std_str = str(std_num)\n",
    "std_digits_sum = sum(list(map(int, std_str.strip())))"
   ]
  },
  {
   "cell_type": "code",
   "execution_count": 63,
   "metadata": {},
   "outputs": [
    {
     "data": {
      "text/plain": [
       "37"
      ]
     },
     "execution_count": 63,
     "metadata": {},
     "output_type": "execute_result"
    }
   ],
   "source": [
    "std_digits_sum"
   ]
  },
  {
   "cell_type": "code",
   "execution_count": 71,
   "metadata": {},
   "outputs": [],
   "source": [
    "noisy_matrix = add_noise(circle_matrix, (std_digits_sum % 15) + 20)"
   ]
  },
  {
   "cell_type": "code",
   "execution_count": 72,
   "metadata": {},
   "outputs": [
    {
     "data": {
      "text/plain": [
       "array([[ 16,  23,  17,  18, 252,   3,  24,   7,  14],\n",
       "       [ 20,  25, 229, 248, 254, 250, 252,  10,  14],\n",
       "       [  8, 251, 230, 232, 228, 247, 240, 246,   1],\n",
       "       [ 12, 233, 234, 236, 231, 249, 254, 234,  10],\n",
       "       [247, 249, 247, 233, 254, 229, 236, 233, 247],\n",
       "       [ 21, 248, 250, 238, 245, 233, 249, 237,   9],\n",
       "       [ 15, 240, 240, 250, 253, 239, 250, 232,   6],\n",
       "       [  4,  11, 234, 243, 244, 247, 239,   7,  26],\n",
       "       [  7,   0,   6,   6, 247,   8,  13,   3,  25]])"
      ]
     },
     "execution_count": 72,
     "metadata": {},
     "output_type": "execute_result"
    }
   ],
   "source": [
    "noisy_matrix"
   ]
  },
  {
   "cell_type": "code",
   "execution_count": 79,
   "metadata": {},
   "outputs": [
    {
     "data": {
      "image/png": "[encoded data removed]",
      "text/plain": [
       "<Figure size 720x360 with 2 Axes>"
      ]
     },
     "metadata": {
      "needs_background": "light"
     },
     "output_type": "display_data"
    }
   ],
   "source": [
    "fig, ax = plt.subplots(1, 2, figsize = (10, 5))\n",
    "fig.suptitle(f'HW0-Image-{std_num}')\n",
    "ax[0].set_title(f'Intact Circle (r = {r})')\n",
    "ax[0].imshow(circle_matrix, cmap='gray')\n",
    "ax[1].set_title(f'Noisy Circle (domain = {std_digits_sum})')\n",
    "ax[1].imshow(noisy_matrix, cmap='gray', vmin = 0, vmax = 255)\n",
    "plt.show()"
   ]
  },
  {
   "attachments": {},
   "cell_type": "markdown",
   "metadata": {},
   "source": [
    "### TODO: Part 5"
   ]
  },
  {
   "cell_type": "code",
   "execution_count": null,
   "metadata": {},
   "outputs": [],
   "source": [
    "from mpl_toolkits import mplot3d"
   ]
  }
 ],
 "metadata": {
  "kernelspec": {
   "display_name": "mlp",
   "language": "python",
   "name": "python3"
  },
  "language_info": {
   "codemirror_mode": {
    "name": "ipython",
    "version": 3
   },
   "file_extension": ".py",
   "mimetype": "text/x-python",
   "name": "python",
   "nbconvert_exporter": "python",
   "pygments_lexer": "ipython3",
   "version": "3.8.12"
  },
  "orig_nbformat": 4,
  "vscode": {
   "interpreter": {
    "hash": "4976e0179d97dd6d59b1329a76e601e17b789c2571b41c8b57f5fd69821c0dd3"
   }
  }
 },
 "nbformat": 4,
 "nbformat_minor": 2
}
