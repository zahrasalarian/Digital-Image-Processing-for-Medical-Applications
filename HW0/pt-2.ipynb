{
 "cells": [
  {
   "cell_type": "code",
   "execution_count": 43,
   "metadata": {},
   "outputs": [],
   "source": [
    "def func(seed, dims):\n",
    "    if not isinstance(seed, int):\n",
    "        print('Seed variable must an integer')\n",
    "    res_matrix = [ [0] * dims[1] for _ in range(dims[0])]\n",
    "    for i in range(dims[0]):\n",
    "        for j in range(dims[1]):\n",
    "            if (i, j) == (0, 0):\n",
    "                res_matrix[0][0] = seed\n",
    "                continue\n",
    "            if i - 1 > -1:\n",
    "                res_matrix[i][j] -= res_matrix[i-1][j]\n",
    "            if j - 1 > -1:\n",
    "                res_matrix[i][j] += res_matrix[i][j-1]\n",
    "            if i - 1 > -1 and j - 1 > -1:\n",
    "                res_matrix[i][j] -= res_matrix[i-1][j-1]\n",
    "    return res_matrix\n"
   ]
  },
  {
   "cell_type": "code",
   "execution_count": 44,
   "metadata": {},
   "outputs": [
    {
     "data": {
      "text/plain": [
       "[[1, 1, 1, 1], [-1, -3, -5, -7], [1, 5, 13, 25]]"
      ]
     },
     "execution_count": 44,
     "metadata": {},
     "output_type": "execute_result"
    }
   ],
   "source": [
    "func(1, (3, 4))"
   ]
  }
 ],
 "metadata": {
  "kernelspec": {
   "display_name": "Python 3",
   "language": "python",
   "name": "python3"
  },
  "language_info": {
   "codemirror_mode": {
    "name": "ipython",
    "version": 3
   },
   "file_extension": ".py",
   "mimetype": "text/x-python",
   "name": "python",
   "nbconvert_exporter": "python",
   "pygments_lexer": "ipython3",
   "version": "3.10.9"
  },
  "orig_nbformat": 4,
  "vscode": {
   "interpreter": {
    "hash": "b0fa6594d8f4cbf19f97940f81e996739fb7646882a419484c72d19e05852a7e"
   }
  }
 },
 "nbformat": 4,
 "nbformat_minor": 2
}
