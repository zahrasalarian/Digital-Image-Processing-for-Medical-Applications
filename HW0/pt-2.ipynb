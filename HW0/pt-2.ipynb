{
 "cells": [
  {
   "cell_type": "code",
   "execution_count": 6,
   "metadata": {},
   "outputs": [],
   "source": [
    "def func(seed, dims):\n",
    "    \"\"\"\n",
    "    Generates a 2D matrix based on a seed and dimensions, following specific calculation rules.\n",
    "    \n",
    "    Parameters:\n",
    "    - seed (int): The initial value to be set at the top-left cell of the matrix.\n",
    "    - dims (tuple): A tuple containing two integers that represent the dimensions of the matrix.\n",
    "    \n",
    "    Behavior:\n",
    "    1. Checks the validity of the inputs; 'seed' should be an integer, and 'dims' should be a tuple.\n",
    "    2. Initializes a 2D matrix filled with zeroes, with dimensions specified by 'dims'.\n",
    "    3. Populates the matrix using the following rules:\n",
    "        - The top-left cell is set to the value of 'seed'.\n",
    "        - For other cells, the value is calculated as follows:\n",
    "            - Subtract the value of the cell above it (if exists).\n",
    "            - Add the value of the cell to its left (if exists).\n",
    "            - Subtract the value of the cell diagonally above and to the left (if exists).\n",
    "    Returns:\n",
    "    - 2D list: A list of lists representing the populated matrix.\n",
    "    \"\"\"\n",
    "    # Check validity of the inputs\n",
    "    if not isinstance(seed, int):\n",
    "        print('seed variable must be an integer')\n",
    "        return\n",
    "    if not isinstance(dims, tuple):\n",
    "        print('dims variable must be a tuple')\n",
    "        return\n",
    "    # Build initial matrix of zeroes\n",
    "    res_matrix = [ [0] * dims[1] for _ in range(dims[0])]\n",
    "    # Fill outthe matrix based on the calculation\n",
    "    for i in range(dims[0]):\n",
    "        for j in range(dims[1]):\n",
    "            if (i, j) == (0, 0):\n",
    "                res_matrix[0][0] = seed\n",
    "                continue\n",
    "            if i - 1 > -1:\n",
    "                res_matrix[i][j] -= res_matrix[i-1][j]\n",
    "            if j - 1 > -1:\n",
    "                res_matrix[i][j] += res_matrix[i][j-1]\n",
    "            if i - 1 > -1 and j - 1 > -1:\n",
    "                res_matrix[i][j] -= res_matrix[i-1][j-1]\n",
    "    return res_matrix\n"
   ]
  },
  {
   "cell_type": "code",
   "execution_count": 8,
   "metadata": {},
   "outputs": [
    {
     "data": {
      "text/plain": [
       "[[1, 1, 1, 1], [-1, -3, -5, -7], [1, 5, 13, 25]]"
      ]
     },
     "execution_count": 8,
     "metadata": {},
     "output_type": "execute_result"
    }
   ],
   "source": [
    "func(1, (3, 4))"
   ]
  }
 ],
 "metadata": {
  "kernelspec": {
   "display_name": "mlp",
   "language": "python",
   "name": "python3"
  },
  "language_info": {
   "codemirror_mode": {
    "name": "ipython",
    "version": 3
   },
   "file_extension": ".py",
   "mimetype": "text/x-python",
   "name": "python",
   "nbconvert_exporter": "python",
   "pygments_lexer": "ipython3",
   "version": "3.8.12"
  },
  "orig_nbformat": 4,
  "vscode": {
   "interpreter": {
    "hash": "4976e0179d97dd6d59b1329a76e601e17b789c2571b41c8b57f5fd69821c0dd3"
   }
  }
 },
 "nbformat": 4,
 "nbformat_minor": 2
}
